{
 "cells": [
  {
   "cell_type": "code",
   "execution_count": null,
   "metadata": {},
   "outputs": [],
   "source": [
    "from openverse import PyOpenverse\n",
    "\n",
    "openverse = PyOpenverse()"
   ]
  },
  {
   "cell_type": "code",
   "execution_count": null,
   "metadata": {},
   "outputs": [],
   "source": [
    "# # Register for API access if not already registered\n",
    "# if not openverse.auth_manager.client_id or not openverse.auth_manager.client_secret:\n",
    "#     name = \"My amazing project\"\n",
    "#     description = \"To access Openverse API\"\n",
    "#     email = \"user@example.com\"\n",
    "#     openverse.register(name, description, email)"
   ]
  },
  {
   "cell_type": "code",
   "execution_count": null,
   "metadata": {},
   "outputs": [],
   "source": [
    "# Example usage\n",
    "image_urls = openverse.img_search(query=\"sunset\")\n",
    "print(image_urls)\n",
    "\n",
    "# Check API information\n",
    "openverse.get_info()"
   ]
  }
 ],
 "metadata": {
  "kernelspec": {
   "display_name": "google",
   "language": "python",
   "name": "python3"
  },
  "language_info": {
   "codemirror_mode": {
    "name": "ipython",
    "version": 3
   },
   "file_extension": ".py",
   "mimetype": "text/x-python",
   "name": "python",
   "nbconvert_exporter": "python",
   "pygments_lexer": "ipython3",
   "version": "3.10.13"
  }
 },
 "nbformat": 4,
 "nbformat_minor": 2
}
